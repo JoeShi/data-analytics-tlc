{
 "cells": [
  {
   "cell_type": "markdown",
   "metadata": {},
   "source": [
    "# TLC Data Analytics \n",
    "\n",
    "This project is to genereate data based on the ETL data. \n"
   ]
  },
  {
   "cell_type": "code",
   "execution_count": null,
   "metadata": {
    "vscode": {
     "languageId": "python"
    }
   },
   "outputs": [],
   "source": [
    "# intialize the Glue environment\n",
    "\n",
    "%idle_timeout 2880\n",
    "%glue_version 4.0\n",
    "%worker_type G.1X\n",
    "%number_of_workers 16\n",
    "\n",
    "import sys\n",
    "from awsglue.transforms import *\n",
    "from awsglue.utils import getResolvedOptions\n",
    "from pyspark.context import SparkContext\n",
    "from awsglue.context import GlueContext\n",
    "from awsglue.job import Job\n",
    "\n",
    "sc = SparkContext.getOrCreate()\n",
    "glueContext = GlueContext(sc)\n",
    "spark = glueContext.spark_session\n",
    "job = Job(glueContext)\n",
    "\n",
    "import os\n",
    "# Detect if the code is running in a Glue job\n",
    "def is_glue_job():\n",
    "    try:\n",
    "        args = getResolvedOptions(sys.argv,['JOB_NAME'])\n",
    "        print(\"JOB_NAME: \", args['JOB_NAME'])\n",
    "        return True\n",
    "    except:\n",
    "        return False\n",
    "\n",
    "print(\"Running in Glue Job: \", is_glue_job())"
   ]
  },
  {
   "cell_type": "markdown",
   "metadata": {},
   "source": [
    "\n",
    "## 1. Data Aggregation\n",
    "We will run the following analysis on the data:\n",
    "- the sum of data grouped by date (e.g., the number of trips, the total driver_pay)\n",
    "- the average of data grouped by date (e.g., the average trip distance, the average trip duration)"
   ]
  },
  {
   "cell_type": "code",
   "execution_count": 7,
   "metadata": {
    "vscode": {
     "languageId": "python"
    }
   },
   "outputs": [],
   "source": [
    "# Create a Spark DataFrame from the Glue Catalog\n",
    "df = glueContext.create_dynamic_frame.from_catalog(database = \"tlc\", table_name = \"fhvhv_final\").toDF()\n",
    "\n",
    "# print the schema if not running in a Glue job\n",
    "if not is_glue_job():\n",
    "    print(\"Schema before transformation:\")\n",
    "    df.printSchema()\n",
    "\n",
    "# Count the number of rows\n",
    "print(\"Number of rows:\", df.count())"
   ]
  },
  {
   "cell_type": "code",
   "execution_count": null,
   "metadata": {
    "vscode": {
     "languageId": "python"
    }
   },
   "outputs": [],
   "source": [
    "from pyspark.sql.functions import count, sum, avg\n",
    "from pyspark.sql.functions import count, sum, avg, format_number\n",
    "\n",
    "grouped_df = df.groupBy(\"year\", \"month\", \"day\", \"rider\").agg(\n",
    "    count(\"*\").alias(\"count\"),\n",
    "    format_number(sum(\"trip_km\"), 2).alias(\"total_trip_km\"),\n",
    "    sum(\"trip_time\").alias(\"total_trip_time\"),\n",
    "    format_number(sum(\"base_passenger_fare\"), 2).alias(\"total_base_passenger_fare\"),\n",
    "    format_number(sum(\"tolls\"), 2).alias(\"total_tolls\"),\n",
    "    format_number(sum(\"sales_tax\"), 2).alias(\"total_sales_tax\"),\n",
    "    format_number(sum(\"congestion_surcharge\"), 2).alias(\"total_congestion_surcharge\"),\n",
    "    format_number(sum(\"tips\"), 2).alias(\"total_tips\"),\n",
    "    format_number(sum(\"driver_pay\"), 2).alias(\"total_driver_pay\"),\n",
    "    format_number(avg(\"trip_km\"), 2).alias(\"avg_trip_km\"),\n",
    "    avg(\"trip_time\").alias(\"avg_trip_time\"),\n",
    "    format_number(avg(\"base_passenger_fare\"), 2).alias(\"avg_base_passenger_fare\"),\n",
    "    format_number(avg(\"tolls\"), 2).alias(\"avg_tolls\"),\n",
    "    format_number(avg(\"sales_tax\"), 2).alias(\"avg_sales_tax\"),\n",
    "    format_number(avg(\"congestion_surcharge\"), 2).alias(\"avg_congestion_surcharge\"),\n",
    "    format_number(avg(\"tips\"), 2).alias(\"avg_tips\"),\n",
    "    format_number(avg(\"driver_pay\"), 2).alias(\"avg_driver_pay\")\n",
    ")\n",
    "\n",
    "# Display the result\n",
    "grouped_df.show(5)"
   ]
  },
  {
   "cell_type": "code",
   "execution_count": null,
   "metadata": {
    "vscode": {
     "languageId": "python"
    }
   },
   "outputs": [],
   "source": [
    "from pyspark.sql.functions import concat, col, lit\n",
    "from pyspark.sql.functions import to_timestamp\n",
    "\n",
    "grouped_df = grouped_df.withColumn(\"date\", to_timestamp(concat(col(\"year\"), lit(\"-\"), col(\"month\"), lit(\"-\"), col(\"day\"))))\n",
    "grouped_df = grouped_df.drop(\"year\", \"month\", \"day\")\n",
    "\n",
    "grouped_df.show(5)"
   ]
  },
  {
   "cell_type": "code",
   "execution_count": null,
   "metadata": {
    "vscode": {
     "languageId": "python"
    }
   },
   "outputs": [],
   "source": [
    "# Write the result to S3 in CSV format\n",
    "grouped_df.coalesce(1).write.csv(\"s3://qiaoshi-aws-ml/tlc/results/aggreated/\", header=True)"
   ]
  },
  {
   "cell_type": "code",
   "execution_count": null,
   "metadata": {
    "vscode": {
     "languageId": "python"
    }
   },
   "outputs": [],
   "source": [
    "# Commit the job, this is to signal to Glue that the job completed successfully.\n",
    "job.commit()\n",
    "\n",
    "print(\"Done!\")"
   ]
  }
 ],
 "metadata": {
  "kernelspec": {
   "display_name": "Glue PySpark",
   "language": "python",
   "name": "glue_pyspark"
  },
  "language_info": {
   "codemirror_mode": {
    "name": "python",
    "version": 3
   },
   "file_extension": ".py",
   "mimetype": "text/x-python",
   "name": "Python_Glue_Session",
   "pygments_lexer": "python3"
  }
 },
 "nbformat": 4,
 "nbformat_minor": 2
}
